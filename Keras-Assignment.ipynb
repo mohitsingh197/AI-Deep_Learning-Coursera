{
    "nbformat_minor": 1, 
    "cells": [
        {
            "source": "# Keras exercise\n\nIn this exercise you will be creating a Keras model by loading a data set, preprocessing input data, building a Sequential Keras model and compiling the model with a training configuration. Afterwards, you train your model on the training data and evaluate it on the test set. To finish this exercise, you will then save your model in HDF5 format.\n\n##\u00a0Data\n\nFor this exercise we will use the Reuters newswire dataset. This dataset consists of 11,228 newswires from the Reuters news agency. Each wire is encoded as a sequence of word indexes, just as in the IMDB data we encountered in lecture 5 of this series. Moreover, each wire is categorised into one of 46 topics, which will serve as our label. This dataset is available through the Keras API.\n\n## Goal\n\nWe want to create a Multi-layer perceptron (MLP) using Keras which we can train to classify news items into the specified 46 topics.\n\n## Instructions\n\nWe start by importing everything we need for this exercise:", 
            "cell_type": "markdown", 
            "metadata": {}
        }, 
        {
            "source": "import pip\n\ntry:\n    __import__('keras')\nexcept ImportError:\n    pip.main(['install', 'keras']) \n    \ntry:\n    __import__('h5py')\nexcept ImportError:\n    pip.main(['install', 'h5py']) \n\nimport numpy as np\nfrom keras.models import Sequential\nfrom keras.layers import Dense, Dropout\nfrom keras.utils import to_categorical\n\nseed = 1337\nnp.random.seed(seed)", 
            "cell_type": "code", 
            "metadata": {}, 
            "outputs": [
                {
                    "output_type": "stream", 
                    "name": "stderr", 
                    "text": "Using TensorFlow backend.\n"
                }
            ], 
            "execution_count": 1
        }, 
        {
            "source": "IMPORTANT! => In case h5py has been installed, please restart the kernel by clicking on \"Kernel\"->\"Restart and Clear Outout\" and wait until all output disapears. Then your changes are beeing picked up\n\nAs you can see, we use Keras' Sequential model with only two types of layers: Dense and Dropout. We also specify a random seed to make our results reproducible. Next, we load the Reuters data set:", 
            "cell_type": "markdown", 
            "metadata": {}
        }, 
        {
            "source": "from keras.datasets import reuters\n\nmax_words = 1000\n(x_train, y_train), (x_test, y_test) = reuters.load_data(num_words=max_words,\n                                                         test_split=0.2,\n                                                         seed=seed)\nnum_classes = np.max(y_train) + 1  # 46 topics", 
            "cell_type": "code", 
            "metadata": {}, 
            "outputs": [], 
            "execution_count": 2
        }, 
        {
            "source": "x_train.view()", 
            "cell_type": "code", 
            "metadata": {}, 
            "outputs": [
                {
                    "output_type": "execute_result", 
                    "data": {
                        "text/plain": "array([ list([1, 56, 2, 141, 2, 71, 8, 16, 40, 200, 6, 438, 2, 806, 2, 81, 5, 2, 2, 2, 7, 10, 587, 7, 50, 261, 5, 2, 806, 33, 839, 79, 2, 69, 10, 147, 20, 128, 7, 4, 2, 49, 4, 49, 8, 16, 33, 57, 69, 78, 11, 79, 335, 21, 10, 2, 959, 503, 92, 4, 587, 16, 8, 92, 4, 270, 16, 33, 2, 2, 806, 31, 197, 13, 2, 16, 8, 2, 806, 189, 40, 365, 2, 2, 9, 363, 6, 2, 117, 124, 7, 89, 900, 2, 6, 2, 172, 2, 236, 7, 4, 37, 38, 9, 2, 17, 12]),\n       list([1, 99, 234, 60, 9, 752, 111, 8, 25, 544, 20, 324, 2, 2, 640, 56, 2, 323, 40, 385, 25, 73, 794, 220, 13, 69, 32, 251, 18, 15, 7, 197, 9, 19, 445, 18, 15, 7, 80, 2, 7, 10, 99, 98, 276, 13, 99, 234, 5, 69, 19, 451, 18, 15, 92, 131, 4, 49, 8, 4, 211, 33, 2, 2, 2, 22, 4, 293, 2, 218, 17, 12]),\n       list([1, 103, 74, 92, 39, 128, 2, 2, 11, 2, 14, 2, 11, 88, 160, 147, 35, 2, 14, 83, 272, 35, 349, 74, 90, 67, 83, 2, 14, 72, 119, 344, 275, 188, 2, 14, 12, 546, 17, 12]),\n       ...,\n       list([1, 486, 341, 147, 26, 14, 147, 26, 255, 219, 252, 68, 146, 91, 102, 17, 12]),\n       list([1, 56, 2, 697, 149, 8, 16, 2, 4, 2, 73, 2, 106, 33, 2, 400, 5, 4, 2, 340, 2, 225, 139, 480, 4, 2, 5, 25, 584, 2, 300, 7, 982, 2, 145, 52, 2, 4, 181, 2, 2, 6, 276, 179, 518, 6, 2, 2, 8, 7, 10, 241, 2, 40, 349, 4, 2, 2, 2, 21, 4, 2, 327, 5, 2, 2, 410, 4, 2, 2, 5, 2, 73, 2, 2, 2, 9, 2, 282, 5, 942, 19, 11, 82, 2, 19, 352, 2, 663, 340, 9, 119, 2, 663, 2, 9, 691, 23, 905, 17, 12]),\n       list([1, 424, 2, 9, 2, 415, 265, 2, 2, 8, 36, 41, 30, 2, 6, 593, 4, 131, 148, 107, 16, 299, 45, 57, 195, 2, 458, 36, 118, 10, 232, 882, 2, 2, 144, 41, 30, 10, 536, 5, 131, 795, 24, 114, 30, 2, 107, 490, 2, 10, 131, 148, 6, 444, 567, 4, 386, 290, 36, 8, 36, 41, 2, 6, 2, 4, 131, 140, 2, 7, 54, 586, 131, 2, 474, 729, 144, 57, 85, 2, 7, 706, 6, 744, 4, 140, 28, 4, 89, 320, 2, 97, 837, 476, 6, 302, 225, 29, 490, 344, 272, 35, 15, 7, 995, 43, 359, 5, 271, 448, 386, 436, 51, 16, 299, 45, 439, 293, 131, 848, 21, 66, 833, 2, 8, 36, 299, 45, 680, 4, 181, 66, 474, 52, 29, 41, 2, 242, 194, 37, 38, 182, 13, 619, 2, 6, 761, 92, 2, 2, 7, 10, 66, 474, 23, 2, 36, 8, 52, 2, 2, 242, 2, 518, 5, 395, 2, 66, 474, 6, 2, 678, 21, 2, 203, 43, 34, 344, 931, 52, 29, 17, 12])], dtype=object)"
                    }, 
                    "execution_count": 3, 
                    "metadata": {}
                }
            ], 
            "execution_count": 3
        }, 
        {
            "source": "y_train.view()", 
            "cell_type": "code", 
            "metadata": {}, 
            "outputs": [
                {
                    "output_type": "execute_result", 
                    "data": {
                        "text/plain": "array([ 4,  3,  3, ...,  3, 25, 11])"
                    }, 
                    "execution_count": 4, 
                    "metadata": {}
                }
            ], 
            "execution_count": 4
        }, 
        {
            "source": "Note that we cap the maximum number of words in a news item to 1000 by specifying the *num_words* key word. Also, 20% of the data will be test data and we ensure reproducibility by setting our random seed.\n\nOur training features are still simply sequences of indexes and we need to further preprocess them, so that we can plug them into a *Dense* layer. For this we use a *Tokenizer* from Keras' text preprocessing module. This tokenizer will take an index sequence and map it to a vector of length *max_words=1000*. Each of the 1000 vector positions corresponds to one of the words in our newswire corpus. The output of the tokenizer has a 1 at the i-th position of the vector, if the word corresponding to i is in the description of the newswire, and 0 otherwise. Even if this word appears multiple times, we still just put a 1 into our vector, i.e. our tokenizer is binary. We use this tokenizer to transform both train and test features:", 
            "cell_type": "markdown", 
            "metadata": {}
        }, 
        {
            "source": "from keras.preprocessing.text import Tokenizer\n\ntokenizer = Tokenizer(num_words=max_words)\nx_train = tokenizer.sequences_to_matrix(x_train, mode='binary')\nx_test = tokenizer.sequences_to_matrix(x_test, mode='binary')", 
            "cell_type": "code", 
            "metadata": {}, 
            "outputs": [], 
            "execution_count": 5
        }, 
        {
            "source": "print(x_train.view())\ny_train.view()", 
            "cell_type": "code", 
            "metadata": {}, 
            "outputs": [
                {
                    "output_type": "stream", 
                    "name": "stdout", 
                    "text": "[[ 0.  1.  1. ...,  0.  0.  0.]\n [ 0.  1.  1. ...,  0.  0.  0.]\n [ 0.  1.  1. ...,  0.  0.  0.]\n ..., \n [ 0.  1.  0. ...,  0.  0.  0.]\n [ 0.  1.  1. ...,  0.  0.  0.]\n [ 0.  1.  1. ...,  0.  0.  0.]]\n"
                }, 
                {
                    "output_type": "execute_result", 
                    "data": {
                        "text/plain": "array([ 4,  3,  3, ...,  3, 25, 11])"
                    }, 
                    "execution_count": 6, 
                    "metadata": {}
                }
            ], 
            "execution_count": 6
        }, 
        {
            "source": "## 1. Exercise part: label encoding\n\nUse to_categorical, as we did in the lectures, to transform both *y_train* and *y_test* into one-hot encoded vectors of length *num_classes*:", 
            "cell_type": "markdown", 
            "metadata": {}
        }, 
        {
            "source": "y_train = to_categorical(y_train, num_classes=num_classes)\ny_test = to_categorical(y_test, num_classes=num_classes)", 
            "cell_type": "code", 
            "metadata": {}, 
            "outputs": [], 
            "execution_count": 7
        }, 
        {
            "source": "##\u00a02. Exercise part: model definition\n\nNext, initialise a Keras *Sequential* model and add three layers to it:\n\n    Layer: Add a *Dense* layer with in input_shape=(max_words,), 512 output units and \"relu\" activation.\n    Layer: Add a *Dropout* layer with dropout rate of 50%.\n    Layer: Add a *Dense* layer with num_classes output units and \"softmax\" activation.", 
            "cell_type": "markdown", 
            "metadata": {}
        }, 
        {
            "source": "model = Sequential()\nmodel.add(Dense(512, activation='relu', input_shape=[max_words,])) # Add first layer. Make sure to specify input shape\nmodel.add(Dropout(0.2)) # Add second layer\nmodel.add(Dense(num_classes, activation='softmax')) # Add third layer", 
            "cell_type": "code", 
            "metadata": {}, 
            "outputs": [], 
            "execution_count": 8
        }, 
        {
            "source": "## 3. Exercise part: model compilation\n\nAs the next step, we need to compile our Keras model with a training configuration. Compile your model with \"categorical_crossentropy\" as loss function, \"adam\" as optimizer and specify \"accuracy\" as evaluation metric. NOTE: In case you get an error regarding h5py, just restart the kernel and start from scratch", 
            "cell_type": "markdown", 
            "metadata": {}
        }, 
        {
            "source": "model.compile(loss='categorical_crossentropy', optimizer='adam', metrics=['accuracy'])", 
            "cell_type": "code", 
            "metadata": {}, 
            "outputs": [], 
            "execution_count": 9
        }, 
        {
            "source": "#some learners constantly reported 502 errors in Watson Studio. \n#This is due to the limited resources in the free tier and the heavy resource consumption of Keras.\n#This is a workaround to limit resource consumption\n\nfrom keras import backend as K\n\nK.set_session(K.tf.Session(config=K.tf.ConfigProto(intra_op_parallelism_threads=1, inter_op_parallelism_threads=1)))\n", 
            "cell_type": "code", 
            "metadata": {}, 
            "outputs": [], 
            "execution_count": 10
        }, 
        {
            "source": "## 4. Exercise part: model training and evaluation\n\nNext, define the batch_size for training as 32 and train the model for 5 epochs on *x_train* and *y_train* by using the *fit* method of your model. Then calculate the score for your trained model by running *evaluate* on *x_test* and *y_test* with the same batch size as used in *fit*.", 
            "cell_type": "markdown", 
            "metadata": {}
        }, 
        {
            "source": "batch_size = 32 ###_YOUR_CODE_GOES_HERE_###\nmodel.fit(x_train, y_train, batch_size=batch_size, epochs=5, validation_data=(x_test, y_test))\nscore = model.evaluate(x_test, y_test, batch_size=32)", 
            "cell_type": "code", 
            "metadata": {}, 
            "outputs": [
                {
                    "output_type": "stream", 
                    "name": "stdout", 
                    "text": "Train on 8982 samples, validate on 2246 samples\nEpoch 1/5\n8982/8982 [==============================] - 6s - loss: 1.2789 - acc: 0.7163 - val_loss: 0.9228 - val_acc: 0.7832\nEpoch 2/5\n8982/8982 [==============================] - 6s - loss: 0.6381 - acc: 0.8526 - val_loss: 0.8103 - val_acc: 0.8045\nEpoch 3/5\n8982/8982 [==============================] - 6s - loss: 0.4250 - acc: 0.8965 - val_loss: 0.8444 - val_acc: 0.8037\nEpoch 4/5\n8982/8982 [==============================] - 6s - loss: 0.3200 - acc: 0.9202 - val_loss: 0.8897 - val_acc: 0.7894\nEpoch 5/5\n8982/8982 [==============================] - 6s - loss: 0.2597 - acc: 0.9335 - val_loss: 0.9377 - val_acc: 0.7894\n1888/2246 [========================>.....] - ETA: 0s"
                }
            ], 
            "execution_count": 11
        }, 
        {
            "source": "If you have done everything as specified, in particular set the random seed as we did above, your test accuracy should be around 80% ", 
            "cell_type": "markdown", 
            "metadata": {}
        }, 
        {
            "source": "score[1]", 
            "cell_type": "code", 
            "metadata": {}, 
            "outputs": [
                {
                    "output_type": "execute_result", 
                    "data": {
                        "text/plain": "0.78940338379341046"
                    }, 
                    "execution_count": 12, 
                    "metadata": {}
                }
            ], 
            "execution_count": 12
        }, 
        {
            "source": "\n\n##\u00a05. Exercise part: model serialisation\n\nAs the final step in this exercise, save your model as \"model.h5\" and upload this file for evaluation:", 
            "cell_type": "markdown", 
            "metadata": {}
        }, 
        {
            "source": "model.save(\"model.h5\")  # upload this file to the grader in the next code block", 
            "cell_type": "code", 
            "metadata": {}, 
            "outputs": [], 
            "execution_count": 13
        }, 
        {
            "source": "To upload the exported model to the grader we first need to encode it based64, we are doing this using a shell command:", 
            "cell_type": "markdown", 
            "metadata": {}
        }, 
        {
            "source": "!base64 model.h5 > model.h5.base64", 
            "cell_type": "code", 
            "metadata": {}, 
            "outputs": [], 
            "execution_count": 14
        }, 
        {
            "source": "Then we have to install a little library in order to submit to coursera", 
            "cell_type": "markdown", 
            "metadata": {}
        }, 
        {
            "source": "!rm -f rklib.py\n!wget https://raw.githubusercontent.com/romeokienzler/developerWorks/master/coursera/ai/rklib.py", 
            "cell_type": "code", 
            "metadata": {}, 
            "outputs": [
                {
                    "output_type": "stream", 
                    "name": "stdout", 
                    "text": "--2018-04-17 02:52:40--  https://raw.githubusercontent.com/romeokienzler/developerWorks/master/coursera/ai/rklib.py\nResolving raw.githubusercontent.com (raw.githubusercontent.com)... 151.101.48.133\nConnecting to raw.githubusercontent.com (raw.githubusercontent.com)|151.101.48.133|:443... connected.\nHTTP request sent, awaiting response... 200 OK\nLength: 2029 (2.0K) [text/plain]\nSaving to: \u2018rklib.py\u2019\n\n100%[======================================>] 2,029       --.-K/s   in 0s      \n\n2018-04-17 02:52:40 (13.6 MB/s) - \u2018rklib.py\u2019 saved [2029/2029]\n\n"
                }
            ], 
            "execution_count": 15
        }, 
        {
            "source": "Please provide your email address and obtain a submission token (secret) on the grader\u2019s submission page in coursera, then execute the cell", 
            "cell_type": "markdown", 
            "metadata": {}
        }, 
        {
            "source": "from rklib import submit\nkey = \"XbAMqtjdEeepUgo7OOVwng\"\npart = \"LqPRQ\"\nemail = \"mohitsingh197@icloud.com\"\nsecret = \"BtzSJqj74axjSYHb\"\n\nwith open('model.h5.base64', 'r') as myfile:\n    data=myfile.read()\nsubmit(email, secret, key, part, [part], data)", 
            "cell_type": "code", 
            "metadata": {}, 
            "outputs": [
                {
                    "output_type": "stream", 
                    "name": "stdout", 
                    "text": "Submission successful, please check on the coursera grader page for the status\n"
                }
            ], 
            "execution_count": 16
        }
    ], 
    "metadata": {
        "kernelspec": {
            "display_name": "Python 2 with Spark 2.1", 
            "name": "python2-spark21", 
            "language": "python"
        }, 
        "language_info": {
            "mimetype": "text/x-python", 
            "nbconvert_exporter": "python", 
            "version": "2.7.11", 
            "name": "python", 
            "pygments_lexer": "ipython2", 
            "file_extension": ".py", 
            "codemirror_mode": {
                "version": 2, 
                "name": "ipython"
            }
        }
    }, 
    "nbformat": 4
}