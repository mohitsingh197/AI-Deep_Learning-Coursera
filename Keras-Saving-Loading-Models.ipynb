{
    "nbformat_minor": 1, 
    "cells": [
        {
            "source": "from keras.models import model_from_json\n\n#Save model to json and weights to hdf5\njson_string = model.to_json() #model.to_yaml()\nmodel.save_weights('weights.h5')\n\n#load\nmodel = model_from_json(json_string)\nmodel.load_weights('weights.h5')\n\n#Persist Full model\nmodel.save('full_model.h5')\nmodel = model.load_model('full_model.h5')", 
            "cell_type": "code", 
            "metadata": {}, 
            "outputs": [], 
            "execution_count": 1
        }
    ], 
    "metadata": {
        "kernelspec": {
            "display_name": "Python 3.5 with Spark 2.1", 
            "name": "python3-spark21", 
            "language": "python"
        }, 
        "language_info": {
            "mimetype": "text/x-python", 
            "nbconvert_exporter": "python", 
            "version": "3.5.4", 
            "name": "python", 
            "pygments_lexer": "ipython3", 
            "file_extension": ".py", 
            "codemirror_mode": {
                "version": 3, 
                "name": "ipython"
            }
        }
    }, 
    "nbformat": 4
}