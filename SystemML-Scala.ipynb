{
    "nbformat_minor": 1, 
    "cells": [
        {
            "source": "import org.apache.sysml.api.mlcontext._\nimport org.apache.sysml.api.mlcontext.ScriptFactory._\n\nval ml = new MLContext(sc)\nval X = ...//RDD etc.\nval script = dmlFromFile(\"LinearRegCG.dml\").in(\"X\", X).in(...).out(\"B\")\nval b = ml.execute(script).getDataFrame(\"B\")", 
            "cell_type": "code", 
            "metadata": {
                "collapsed": true
            }, 
            "outputs": [], 
            "execution_count": null
        }
    ], 
    "metadata": {
        "kernelspec": {
            "display_name": "Scala 2.11 with Spark 2.1", 
            "name": "scala-spark21", 
            "language": "scala"
        }, 
        "language_info": {
            "mimetype": "text/x-scala", 
            "version": "2.11.8", 
            "name": "scala", 
            "pygments_lexer": "scala", 
            "file_extension": ".scala", 
            "codemirror_mode": "text/x-scala"
        }
    }, 
    "nbformat": 4
}