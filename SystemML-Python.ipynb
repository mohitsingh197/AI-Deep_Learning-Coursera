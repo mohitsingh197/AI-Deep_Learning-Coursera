{
    "nbformat_minor": 1, 
    "cells": [
        {
            "source": "import pip\n#pip.main(['install','systemml==1.1.0'])\n#pip.main(['uninstall','systemml==1.1.0'])\n\n!pip install --upgrade https://github.com/niketanpansare/future_of_data/raw/master/systemml-1.1.0-SNAPSHOT-python.tar.gz\n!ln -s -f ~/local/lib/python3.5/site-packages/systemml/systemml-java/*.jar ~/data/libs", 
            "cell_type": "code", 
            "metadata": {}, 
            "outputs": [
                {
                    "output_type": "stream", 
                    "name": "stdout", 
                    "text": "shell-init: error retrieving current directory: getcwd: cannot access parent directories: No such file or directory\nThe folder you are executing pip from can no longer be found.\nshell-init: error retrieving current directory: getcwd: cannot access parent directories: No such file or directory\nln: failed to create symbolic link \u2018/gpfs/fs01/user/s4ad-71be5ff42582a2-56b67737d6cd/data/libs\u2019: No such file or directory\n"
                }
            ], 
            "execution_count": 24
        }, 
        {
            "source": "import os\nos.system(mkdir -P /gpfs/fs01/user/s4ad-71be5ff42582a2-56b67737d6cd')", 
            "cell_type": "code", 
            "metadata": {}, 
            "outputs": [], 
            "execution_count": null
        }, 
        {
            "source": "!pip show systemml", 
            "cell_type": "code", 
            "metadata": {}, 
            "outputs": [], 
            "execution_count": 13
        }, 
        {
            "source": "from systemml import MLContext, dmlFromFile \n\nml = MLContext(sc)\n#X = ...//RDD etc.\nscript = dmlFromFile(\"LinearRegCG.dml\").input(\"X\", X).input(...).output(\"B\")\nb = ml.execute(script).getDataFrame(\"B\")", 
            "cell_type": "code", 
            "metadata": {}, 
            "outputs": [], 
            "execution_count": null
        }, 
        {
            "source": "from systemml import LinearRegression\n\ntrain_df = #...RDD etc\nregr = LinearRegression(spark)\nregr.fit(train_df)\nb = regr.predict(test_df)\n", 
            "cell_type": "code", 
            "metadata": {}, 
            "outputs": [], 
            "execution_count": null
        }, 
        {
            "source": "from systemml import Keras2DML\n\nX_train, Y_train = ...\nsysml_model = Keras2DML(spark, keras_model,...)\nsysml_model.fit(X_train, Y_train)\nb = sysml_model.predict(X_test, Y_test)", 
            "cell_type": "code", 
            "metadata": {}, 
            "outputs": [
                {
                    "output_type": "error", 
                    "evalue": "cannot import name 'Keras2DML'", 
                    "traceback": [
                        "\u001b[0;31m---------------------------------------------------------------------------\u001b[0m", 
                        "\u001b[0;31mImportError\u001b[0m                               Traceback (most recent call last)", 
                        "\u001b[0;32m<ipython-input-5-de91175a640f>\u001b[0m in \u001b[0;36m<module>\u001b[0;34m()\u001b[0m\n\u001b[0;32m----> 1\u001b[0;31m \u001b[0;32mfrom\u001b[0m \u001b[0msystemml\u001b[0m \u001b[0;32mimport\u001b[0m \u001b[0mKeras2DML\u001b[0m\u001b[0;34m\u001b[0m\u001b[0m\n\u001b[0m", 
                        "\u001b[0;31mImportError\u001b[0m: cannot import name 'Keras2DML'"
                    ], 
                    "ename": "ImportError"
                }
            ], 
            "execution_count": 5
        }
    ], 
    "metadata": {
        "kernelspec": {
            "display_name": "Python 3.5 with Spark 2.1", 
            "name": "python3-spark21", 
            "language": "python"
        }, 
        "language_info": {
            "mimetype": "text/x-python", 
            "nbconvert_exporter": "python", 
            "version": "3.5.4", 
            "name": "python", 
            "pygments_lexer": "ipython3", 
            "file_extension": ".py", 
            "codemirror_mode": {
                "version": 3, 
                "name": "ipython"
            }
        }
    }, 
    "nbformat": 4
}