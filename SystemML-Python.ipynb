{
    "nbformat_minor": 1, 
    "cells": [
        {
            "source": "import pip\n#pip.main(['install','systemml==1.1.0'])\n#pip.main(['uninstall','systemml==1.1.0'])\n\n!pip install --upgrade https://github.com/niketanpansare/future_of_data/raw/master/systemml-1.1.0-SNAPSHOT-python.tar.gz\n!ln -s -f ~/local/lib/python3.5/site-packages/systemml/systemml-java/*.jar ~/data/libs", 
            "cell_type": "code", 
            "metadata": {}, 
            "outputs": [], 
            "execution_count": null
        }, 
        {
            "source": "!pip show systemml", 
            "cell_type": "code", 
            "metadata": {}, 
            "outputs": [], 
            "execution_count": null
        }, 
        {
            "source": "#Notes\n\n#from systemml import MLContext, dmlFromFile, dml\n\n#ml = MLContext(sc)\n#print(ml.info())\n#X = ...//RDD etc.\n#script = dmlFromFile(\"LinearRegCG.dml\").input(\"X\", X).input(...).output(\"B\")\n#script = dml(\"\"\"print('Hello World!!')\"\"\")\n#ml.execute(script)\n#b = ml.execute(script).getDataFrame(\"B\")", 
            "cell_type": "code", 
            "metadata": {}, 
            "outputs": [], 
            "execution_count": null
        }, 
        {
            "source": "from systemml import MLContext, dmlFromFile, dml\nml = MLContext(sc)\nscript = dml(\"\"\"s = 'Hello World!!'\"\"\").output(\"s\")\nstr = ml.execute(script).get(\"s\")\nprint(str)", 
            "cell_type": "code", 
            "metadata": {}, 
            "outputs": [], 
            "execution_count": null
        }, 
        {
            "source": "#Notes\n\n#from systemml import LinearRegression\n\n#train_df = #...RDD etc\n#regr = LinearRegression(spark)\n#regr.fit(train_df)\n#b = regr.predict(test_df)\n", 
            "cell_type": "code", 
            "metadata": {}, 
            "outputs": [], 
            "execution_count": null
        }, 
        {
            "source": "#Notes\n\n#from systemml import Keras2DML\n\n#X_train, Y_train = ...\n#sysml_model = Keras2DML(spark, keras_model,...)\n#sysml_model.fit(X_train, Y_train)\n#b = sysml_model.predict(X_test, Y_test)", 
            "cell_type": "code", 
            "metadata": {}, 
            "outputs": [], 
            "execution_count": null
        }, 
        {
            "source": "sc.version", 
            "cell_type": "code", 
            "metadata": {}, 
            "outputs": [], 
            "execution_count": null
        }, 
        {
            "source": "from systemml import MLContext, dmlFromFile, dml\nimport sys, os\nimport matplotlib.pyplot as plt\nimport numpy as np\nfrom sklearn import datasets\nplt.switch_backend(\"agg\")\n", 
            "cell_type": "code", 
            "metadata": {}, 
            "outputs": [], 
            "execution_count": null
        }, 
        {
            "source": "script = \"\"\" X = rand(rows = $nr, cols = 1000, sparsity = 0.5)\nA = t(X) %*% X\ns = sum(A)\"\"\"\nprog = dml(script).input(\"$nr\", 1e6).output(\"s\")\ns = ml.execute(prog).get(\"s\")\nprint(s)", 
            "cell_type": "code", 
            "metadata": {}, 
            "outputs": [], 
            "execution_count": null
        }, 
        {
            "source": "%matplotlib inline", 
            "cell_type": "code", 
            "metadata": {}, 
            "outputs": [], 
            "execution_count": null
        }, 
        {
            "source": "diabetes = datasets.load_diabetes()\ndiabetes_X = diabetes.data[:, np.newaxis, 2]\ndiabetes_X_train = diabetes_X[:-20]\ndiabetes_X_test = diabetes_X[-20:]\ndiabetes_Y_train = np.matrix(diabetes.target[:-20]).T\ndiabetes_Y_test = np.matrix(diabetes.target[-20:]).T\n\nprint(diabetes_X_train.shape)\nprint(diabetes_X_test.shape)\nprint(diabetes_Y_train.shape)\nprint(diabetes_Y_test.shape)\n\n#plt.scatter(diabetes.data, diabetes.target, color='blue')\nplt.scatter(diabetes_X_train, diabetes_Y_train, color='black')\nplt.scatter(diabetes_X_test, diabetes_Y_test, color='red')\n\nprint(diabetes.data.shape)\nprint(diabetes.target.shape)\nprint(diabetes_X.shape)", 
            "cell_type": "code", 
            "metadata": {}, 
            "outputs": [], 
            "execution_count": null
        }, 
        {
            "source": "#Linear Regression\n\nscript = \"\"\"\n    # Add constant feature to X to model intercept\n    ones = matrix(1, rows=nrow(X), cols=1)\n    X = cbind(X, ones)\n    A = t(X) %*% X\n    b = t(X) %*% y\n    w = solve(A,b)\n    bias = as.scalar(w[nrow(w),1])\n    w = w[1:nrow(w) - 1,]\n    \"\"\"\n\nprog = dml(script).input(X=diabetes_X_train, y=diabetes_Y_train).output('w', 'bias')\nw, bias = ml.execute(prog).get('w', 'bias')\nw = w.toNumPy()", 
            "cell_type": "code", 
            "metadata": {
                "scrolled": true
            }, 
            "outputs": [], 
            "execution_count": null
        }, 
        {
            "source": "plt.scatter(diabetes_X_train, diabetes_Y_train, color='black')\nplt.scatter(diabetes_X_test, diabetes_Y_test, color='red')\n\nplt.plot(diabetes_X_test, (w * diabetes_X_test) * bias, color='blue', linestyle='dotted')", 
            "cell_type": "code", 
            "metadata": {}, 
            "outputs": [], 
            "execution_count": null
        }, 
        {
            "source": "from pyspark.sql import SQLContext\nfrom systemml import mllearn\n#from systemml.mllearn import LinearRegression\n\nsql=SQLContext(sc)\nregr=mllearn.LinearRegression(sql)\nregr.fit(diabetes_X_train, diabetes_Y_train)\npredictions=regr.predict(diabetes_X_test)", 
            "cell_type": "code", 
            "metadata": {}, 
            "outputs": [], 
            "execution_count": null
        }
    ], 
    "metadata": {
        "kernelspec": {
            "display_name": "Python 3.5 with Spark 2.1", 
            "name": "python3-spark21", 
            "language": "python"
        }, 
        "language_info": {
            "mimetype": "text/x-python", 
            "nbconvert_exporter": "python", 
            "version": "3.5.4", 
            "name": "python", 
            "pygments_lexer": "ipython3", 
            "file_extension": ".py", 
            "codemirror_mode": {
                "version": 3, 
                "name": "ipython"
            }
        }
    }, 
    "nbformat": 4
}