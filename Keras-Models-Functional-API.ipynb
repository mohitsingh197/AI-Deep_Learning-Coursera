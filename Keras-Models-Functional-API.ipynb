{
    "nbformat_minor": 1, 
    "cells": [
        {
            "source": "from keras.layers import Input, Dense\nfrom keras.models import Model\n\nnum_classes = 10\ninputs = Input(shape=(784,))\n\nx = Dense(512, activation='relu')(inputs)\nx = Dense(512, activation='relu')(x)\npredictions = Dense(num_classes, activation='softmax')(x)\n\nmodel = Model(inputs=inputs, outputs=predictions)\nmodel.compile(loss='categorical_crossentropy', optimizer='sgd', metrics=['accuracy'])\nmodel.fit() #same as RNN/CNN\nmodel.evaluate() #same as RNN/CNN", 
            "cell_type": "code", 
            "metadata": {
                "collapsed": true
            }, 
            "outputs": [], 
            "execution_count": null
        }
    ], 
    "metadata": {
        "kernelspec": {
            "display_name": "Python 3.5 with Spark 2.1", 
            "name": "python3-spark21", 
            "language": "python"
        }, 
        "language_info": {
            "mimetype": "text/x-python", 
            "nbconvert_exporter": "python", 
            "version": "3.5.4", 
            "name": "python", 
            "pygments_lexer": "ipython3", 
            "file_extension": ".py", 
            "codemirror_mode": {
                "version": 3, 
                "name": "ipython"
            }
        }
    }, 
    "nbformat": 4
}