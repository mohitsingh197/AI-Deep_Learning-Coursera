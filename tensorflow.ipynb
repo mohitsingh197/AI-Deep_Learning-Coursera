{
    "nbformat_minor": 1, 
    "cells": [
        {
            "source": "#Download data\nfrom tensorflow.examples.tutorials.mnist import input_data\nmnist = input_data.read_data_sets(\"MNIST_data/\", one_hot=True)", 
            "cell_type": "code", 
            "metadata": {}, 
            "outputs": [
                {
                    "output_type": "stream", 
                    "name": "stdout", 
                    "text": "Extracting MNIST_data/train-images-idx3-ubyte.gz\nExtracting MNIST_data/train-labels-idx1-ubyte.gz\nExtracting MNIST_data/t10k-images-idx3-ubyte.gz\nExtracting MNIST_data/t10k-labels-idx1-ubyte.gz\n"
                }
            ], 
            "execution_count": 2
        }, 
        {
            "source": "import tensorflow as tf", 
            "cell_type": "code", 
            "metadata": {}, 
            "outputs": [], 
            "execution_count": 3
        }, 
        {
            "source": "%matplotlib inline\nimport matplotlib.pyplot as plt", 
            "cell_type": "code", 
            "metadata": {}, 
            "outputs": [], 
            "execution_count": 4
        }, 
        {
            "source": "#View data\nbatch_xs, batch_ys = mnist.train.next_batch(1)\nX = batch_xs\nX = X.reshape([28,28])\nplt.gray()\nplt.imshow(X)", 
            "cell_type": "code", 
            "metadata": {}, 
            "outputs": [
                {
                    "output_type": "execute_result", 
                    "data": {
                        "text/plain": "<matplotlib.image.AxesImage at 0x7f3a2516f780>"
                    }, 
                    "execution_count": 14, 
                    "metadata": {}
                }, 
                {
                    "output_type": "display_data", 
                    "data": {
                        "image/png": "[encoded data removed]", 
                        "text/plain": "<matplotlib.figure.Figure at 0x7f3a251355c0>"
                    }, 
                    "metadata": {}
                }
            ], 
            "execution_count": 14
        }, 
        {
            "source": "#Declare variables\nx = tf.placeholder(tf.float32, [None, 784]) #Input pixels\nW = tf.Variable(tf.zeros([784,10])) #Weights for all 10 possible classification\nb = tf.Variable(tf.zeros([10])) #Regularization variable\ny = tf.nn.softmax(tf.matmul(x,W) + b) #predicted\ny_ = tf.placeholder(tf.float32, [None, 10]) #Lables\n\ntf.summary.histogram('W',W)\ntf.summary.histogram('b',b)\ntf.summary.histogram('y',y)", 
            "cell_type": "code", 
            "metadata": {}, 
            "outputs": [
                {
                    "output_type": "execute_result", 
                    "data": {
                        "text/plain": "<tf.Tensor 'y:0' shape=() dtype=string>"
                    }, 
                    "execution_count": 16, 
                    "metadata": {}
                }
            ], 
            "execution_count": 16
        }, 
        {
            "source": "#TRAIN STEP\ncross_entropy = tf.reduce_mean(-tf.reduce_sum(y_ * tf.log(y), axis=1))\ntrain_step = tf.train.GradientDescentOptimizer(0.5).minimize(cross_entropy)", 
            "cell_type": "code", 
            "metadata": {}, 
            "outputs": [], 
            "execution_count": 26
        }, 
        {
            "source": "sess = tf.InteractiveSession()", 
            "cell_type": "code", 
            "metadata": {}, 
            "outputs": [], 
            "execution_count": 27
        }, 
        {
            "source": "#ITERATIONS\n#summary_writer = tf.summary.FileWriter(tb_logdir , sess.graph)\ntf.global_variables_initializer().run()\nfor _ in range(1000):\n    batch_xs, batch_ys = mnist.train.next_batch(100)\n    sess.run(train_step, feed_dict={x: batch_xs, y_: batch_ys})\n    #summary_writer.add_summary(summary, i)\n    #sess.run([accuracy,tf.summary.merge_all()], feed_dict={x: batch_xs, y_: batch_ys})", 
            "cell_type": "code", 
            "metadata": {}, 
            "outputs": [], 
            "execution_count": 28
        }, 
        {
            "source": "#PREDICTION\ncorrect_prediction = tf.equal(tf.argmax(y,1),tf.argmax(y_,1))\n\n#ACCURACY\naccuracy = tf.reduce_mean(tf.cast(correct_prediction,tf.float32))\ntf.summary.scalar('accuracy',accuracy)\nprint(sess.run(accuracy, feed_dict={x: mnist.test.images, y_: mnist.test.labels}))", 
            "cell_type": "code", 
            "metadata": {}, 
            "outputs": [
                {
                    "output_type": "execute_result", 
                    "data": {
                        "text/plain": "<tf.Tensor 'accuracy:0' shape=() dtype=string>"
                    }, 
                    "execution_count": 29, 
                    "metadata": {}
                }
            ], 
            "execution_count": 29
        }, 
        {
            "source": "", 
            "cell_type": "code", 
            "metadata": {}, 
            "outputs": [], 
            "execution_count": null
        }
    ], 
    "metadata": {
        "kernelspec": {
            "display_name": "Python 3.5 with Spark 2.1", 
            "name": "python3-spark21", 
            "language": "python"
        }, 
        "language_info": {
            "mimetype": "text/x-python", 
            "nbconvert_exporter": "python", 
            "version": "3.5.4", 
            "name": "python", 
            "pygments_lexer": "ipython3", 
            "file_extension": ".py", 
            "codemirror_mode": {
                "version": 3, 
                "name": "ipython"
            }
        }
    }, 
    "nbformat": 4
}