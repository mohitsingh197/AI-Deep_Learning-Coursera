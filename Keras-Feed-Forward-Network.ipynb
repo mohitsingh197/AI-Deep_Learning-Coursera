{
    "nbformat_minor": 1, 
    "cells": [
        {
            "source": "import numpy as np\nimport tensorflow as tf\nfrom keras.models import Sequential\nfrom keras.layers import Dense\nfrom keras.optimizers import SGD\n\n#Load data\nfrom keras.datasets import mnist\n\nfrom keras.layers import Dropout", 
            "cell_type": "code", 
            "metadata": {}, 
            "outputs": [], 
            "execution_count": 14
        }, 
        {
            "source": "#Building Blocks\nDense(units, #Number of output neurons,\n           activation, #Activation function\n           use_bias = True #User bias term or not\n           kernel_initializer='glorot_uniform',\n           bias_initializer = 'zeros')\n\nDropout(rate, # The fraction of units to drop in each forward pass\n       seed=None # Random seed for reproducibility)", 
            "cell_type": "code", 
            "metadata": {}, 
            "outputs": [], 
            "execution_count": null
        }, 
        {
            "source": "#Basic Structure\n\n(x_train, y_train), (x_test, y_test) = mnist.load_data()\n\n#Define Model\nmodel = Sequential()\n\n#Add layers\nmodel.add(Dense(256, activation='sigmoid', input_shape=(784,)))\nmodel.add(Dense(10, activation='softmax'))\n\n#Compile model with loss and optimizer\nfrom keras.losses import categorical_crossentropy\nsgd = SGD(lr = 0.01, decay=1e-6, momentum=0.9)\nmodel.compile(loss=categorical_crossentropy, optimizer=sgd, metrics=['accuracy'])\n#OR as a string\n#model.compile(loss='categorical_crossentropy', optimizer='sgd', metrics=['accuracy'])\n\n#Train network\nmodel.fit(x_train, y_train, batch_size=128, epochs=10, validation_data=(x_test, y_test))\n\n#Evaluate\nmodel.evaluate(x_test, y_test, batch_size=32)\n\n#Predict\nmodel.predict(x_test, batch_size=32)\n", 
            "cell_type": "code", 
            "metadata": {}, 
            "outputs": [], 
            "execution_count": null
        }, 
        {
            "source": "#Example\n\n#Load data\nfrom keras.datasets import mnist\n(x_train, y_train), (x_test, y_test) = mnist.load_data()\n\nbatch_size = 128\nnum_classes = 10\nepochs = 20\n\n#Data Processing\nx_train = x_train.reshape(60000, 784)\nx_test = x_test.reshape(10000, 784)\nx_train = x_train.astype('float32')\nx_test = x_test.astype('float32')\nx_train /= 255\nx_test /= 255\n\nfrom keras import utils\ny_train = utils.to_categorical(y_train, num_classes)\ny_test = utils.to_categorical(y_test, num_classes)\n\n#Define Model\nmodel = Sequential()\n\n#Add layers\nmodel.add(Dense(512, activation='relu', \n                input_shape=(784,) #First layer only\n               ))\nmodel.add(Dropout(0.2))\nmodel.add(Dense(512, activation='relu'))\nmodel.add(Dropout(0.2))\nmodel.add(Dense(num_classes, activation='softmax'))\n                \nmodel.summary()\n\nmodel.compile(loss='categorical_crossentropy', optimizer='sgd', metrics=['accuracy'])\n\nmodel.fit(x_train, y_train, batch_size=batch_size, epochs=epochs)\n                \nscore = model.evaluate(x_test, y_test)\nprint('Test loss: ')\nprint(score[0])\nprint('\\nTest accuracy:')\nprint(score[1])\n\n", 
            "cell_type": "code", 
            "metadata": {}, 
            "outputs": [
                {
                    "output_type": "stream", 
                    "name": "stdout", 
                    "text": "_________________________________________________________________\nLayer (type)                 Output Shape              Param #   \n=================================================================\ndense_19 (Dense)             (None, 512)               401920    \n_________________________________________________________________\ndropout_13 (Dropout)         (None, 512)               0         \n_________________________________________________________________\ndense_20 (Dense)             (None, 512)               262656    \n_________________________________________________________________\ndropout_14 (Dropout)         (None, 512)               0         \n_________________________________________________________________\ndense_21 (Dense)             (None, 10)                5130      \n=================================================================\nTotal params: 669,706\nTrainable params: 669,706\nNon-trainable params: 0\n_________________________________________________________________\nEpoch 1/20\n60000/60000 [==============================] - 5s - loss: 1.2202 - acc: 0.6858     \nEpoch 2/20\n60000/60000 [==============================] - 5s - loss: 0.5380 - acc: 0.8475     \nEpoch 3/20\n60000/60000 [==============================] - 5s - loss: 0.4291 - acc: 0.8765     \nEpoch 4/20\n60000/60000 [==============================] - 5s - loss: 0.3788 - acc: 0.8905     \nEpoch 5/20\n60000/60000 [==============================] - 5s - loss: 0.3450 - acc: 0.8988     \nEpoch 6/20\n60000/60000 [==============================] - 6s - loss: 0.3204 - acc: 0.9077     \nEpoch 7/20\n60000/60000 [==============================] - 6s - loss: 0.3014 - acc: 0.9122     \nEpoch 8/20\n60000/60000 [==============================] - 5s - loss: 0.2827 - acc: 0.9192     \nEpoch 9/20\n60000/60000 [==============================] - 6s - loss: 0.2693 - acc: 0.9223     \nEpoch 10/20\n60000/60000 [==============================] - 5s - loss: 0.2553 - acc: 0.9274     \nEpoch 11/20\n60000/60000 [==============================] - 6s - loss: 0.2446 - acc: 0.9289     \nEpoch 12/20\n60000/60000 [==============================] - 6s - loss: 0.2344 - acc: 0.9329     \nEpoch 13/20\n60000/60000 [==============================] - 6s - loss: 0.2251 - acc: 0.9346     \nEpoch 14/20\n60000/60000 [==============================] - 5s - loss: 0.2144 - acc: 0.9387     \nEpoch 15/20\n60000/60000 [==============================] - 5s - loss: 0.2072 - acc: 0.9401     \nEpoch 16/20\n60000/60000 [==============================] - 5s - loss: 0.1999 - acc: 0.9424     \nEpoch 17/20\n60000/60000 [==============================] - 5s - loss: 0.1923 - acc: 0.9446     \nEpoch 18/20\n60000/60000 [==============================] - 5s - loss: 0.1878 - acc: 0.9465     \nEpoch 19/20\n60000/60000 [==============================] - 5s - loss: 0.1812 - acc: 0.9469     \nEpoch 20/20\n60000/60000 [==============================] - 5s - loss: 0.1769 - acc: 0.9483     \n 9984/10000 [============================>.] - ETA: 0sTest loss: \n0.147202164536\n\nTest accuracy:\n0.9566\n"
                }
            ], 
            "execution_count": 32
        }
    ], 
    "metadata": {
        "kernelspec": {
            "display_name": "Python 3.5 with Spark 2.1", 
            "name": "python3-spark21", 
            "language": "python"
        }, 
        "language_info": {
            "mimetype": "text/x-python", 
            "nbconvert_exporter": "python", 
            "version": "3.5.4", 
            "name": "python", 
            "pygments_lexer": "ipython3", 
            "file_extension": ".py", 
            "codemirror_mode": {
                "version": 3, 
                "name": "ipython"
            }
        }
    }, 
    "nbformat": 4
}